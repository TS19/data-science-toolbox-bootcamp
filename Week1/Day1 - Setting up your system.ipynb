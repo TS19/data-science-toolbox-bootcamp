{
 "cells": [
  {
   "cell_type": "markdown",
   "metadata": {
    "slideshow": {
     "slide_type": "slide"
    }
   },
   "source": [
    "# Day 1 - Setting up your system"
   ]
  },
  {
   "cell_type": "markdown",
   "metadata": {},
   "source": [
    "## Activity 0: Installing Ubuntu (15.10, 64-bit)"
   ]
  },
  {
   "cell_type": "markdown",
   "metadata": {},
   "source": [
    "Installation of Ubuntu is sufficiently complicated to not be covered here. We'll proceed with the assumption that you already have a machine with pre-installed Ubuntu at your disposal, or you know someone who can help you do it. This is one of the few major assumptions we'll make. [Here is the official documentation](https://help.ubuntu.com/community/Installation).\n",
    "\n",
    "The 64-bit 15.10 edition of Ubuntu is the recommended one. Almost all the code that follow will work with almost no tweakings for other versions of Ubuntu as well. Particularly, wherever you see **wily** in bash commands, you should replace it with the appropriate name for the version of Ubuntu you are going to use (for example, *trusty* for 14.04 or *vivd* for 15.04. The full list can be found [here](https://en.wikipedia.org/wiki/List_of_Ubuntu_releases).).\n",
    "\n",
    "You also need to be comfortable using Ubuntu as your operating system. In following sections, we cover a list of ideas and tasks that you should have an understanding of in order to be able to use Ubuntu:"
   ]
  },
  {
   "cell_type": "markdown",
   "metadata": {},
   "source": [
    "### Mastering Ubuntu\n",
    "\n",
    "* You should understand the basics of terminal-based manipulation of the operating environment:\n",
    "  - Is, rm, mv, mkdir, cp\n",
    "  - top\n",
    "  - sudo\n",
    "  - Hidden files\n",
    "  - An understanding of the file structure (including their home directory)\n",
    "* You should be able to understand the login process and the way environmental variables are set:\n",
    "  - .profile\n",
    "  - .bashrc\n",
    "  - .bash_history\n",
    "* You should understand how package management works via apt-get (CLI) and synaptic (GUI):\n",
    "  - Updating package list (apt-get update)\n",
    "  - Upgrading to new packages (apt-get upgrade)\n",
    "  - Adding new repositories to apt (and adding secure keys using apt-key)\n",
    "  - Adding PPAs\n",
    "  - Finding and installing new softwares\n",
    "  - Installing software from .deb files (dpkg -i filename.deb) - walk through the process of installing google chrome (not chromium)\n",
    "* Introduction to basic tools\n",
    "  - gedit\n",
    "  - LibreOffice Calc\n",
    "  - Changing System Settings\n",
    "  - Change desktop behaviour\n",
    "  - Create and set up new users\n",
    "  - System Monitor (and what do the various components mean)\n",
    "\n",
    "All most all the topics mentioned above (and a little more) can be found in the following links (strongly suggested that you read these end-to-end if the material is new for you):\n",
    "\n",
    "* Using the terminal - https://help.ubuntu.com/community/UsingTheTerminal\n",
    "* Commands on the terminal - https://help.ubuntu.com/community/CommandlineHowto\n",
    "* Apt-Get Howto - https://help.ubuntu.com/community/AptGet/Howto\n",
    "* (Optional on Day 1) Deeper into Apt-Get - https://help.ubuntu.com/community/Repositories/CommandLine"
   ]
  },
  {
   "cell_type": "markdown",
   "metadata": {},
   "source": [
    "## Activity 1: Setting up Ubuntu"
   ]
  },
  {
   "cell_type": "markdown",
   "metadata": {},
   "source": [
    "The software in the system is likely to have become update. Let's update the software in our system and then install some software that we are going to need (note: all the bash commands are meant to be run on the terminal, but you already know that by now).\n",
    "\n",
    "```bash\n",
    "sudo apt-get update\n",
    "sudo apt-get -y upgrade\n",
    "sudo apt-get install -y software-properties-common curl\n",
    "```\n",
    "\n"
   ]
  },
  {
   "cell_type": "markdown",
   "metadata": {},
   "source": [
    "## Activity 2: Installing SQL Server"
   ]
  },
  {
   "cell_type": "markdown",
   "metadata": {},
   "source": [
    "### Setting up PostgreSQL"
   ]
  },
  {
   "cell_type": "markdown",
   "metadata": {},
   "source": [
    "## Activity 3: Installing NoSQL Server"
   ]
  },
  {
   "cell_type": "markdown",
   "metadata": {},
   "source": [
    "### Setting up MongoDB"
   ]
  },
  {
   "cell_type": "markdown",
   "metadata": {},
   "source": [
    "## Activity 4: Installing R"
   ]
  },
  {
   "cell_type": "markdown",
   "metadata": {},
   "source": [
    "## Activity 5: Installing Python"
   ]
  },
  {
   "cell_type": "markdown",
   "metadata": {},
   "source": [
    "## Activity 6: Setting up Git and GitHub"
   ]
  },
  {
   "cell_type": "markdown",
   "metadata": {},
   "source": [
    "## Activity 7: Literate Programming"
   ]
  },
  {
   "cell_type": "markdown",
   "metadata": {},
   "source": [
    "### markdown"
   ]
  },
  {
   "cell_type": "markdown",
   "metadata": {},
   "source": [
    "### Github markdown and Rmarkdown"
   ]
  },
  {
   "cell_type": "markdown",
   "metadata": {},
   "source": [
    "### IPython/Jupyter Notebooks"
   ]
  },
  {
   "cell_type": "markdown",
   "metadata": {
    "slideshow": {
     "slide_type": "subslide"
    }
   },
   "source": [
    "### Installing Anaconda\n",
    "\n",
    "* Download: https://www.continuum.io/downloads\n",
    "    \n",
    "Distribution | Link\n",
    "------------ | -----\n",
    "Linux 64-bit: | https://3230d63b5fc54e62148e-c95ac804525aac4b6dba79b00b39d1d3.ssl.cf1.rackcdn.com/Anaconda-2.3.0-Linux-x86_64.sh\n",
    "Linux 32-bit: | https://3230d63b5fc54e62148e-c95ac804525aac4b6dba79b00b39d1d3.ssl.cf1.rackcdn.com/Anaconda-2.3.0-Linux-x86.sh\n",
    "\n",
    "* Install\n",
    "```bash\n",
    "bash Anaconda-2.3.0-Linux-x86_64.sh\n",
    "```"
   ]
  },
  {
   "cell_type": "markdown",
   "metadata": {
    "slideshow": {
     "slide_type": "subslide"
    }
   },
   "source": [
    "### Testing Anaconda Install\n",
    "\n",
    "* Verifying Anaconda install\n",
    "```bash\n",
    "conda --version\n",
    "```\n"
   ]
  },
  {
   "cell_type": "markdown",
   "metadata": {
    "slideshow": {
     "slide_type": "fragment"
    }
   },
   "source": [
    "* Updating Anaconda to current version\n",
    "```bash\n",
    "conda update conda\n",
    "```\n"
   ]
  },
  {
   "cell_type": "markdown",
   "metadata": {
    "slideshow": {
     "slide_type": "fragment"
    }
   },
   "source": [
    "\n",
    "* List installed packages\n",
    "```bash\n",
    "conda list\n",
    "```\n"
   ]
  },
  {
   "cell_type": "markdown",
   "metadata": {
    "slideshow": {
     "slide_type": "fragment"
    }
   },
   "source": [
    "\n",
    "* Search for a package\n",
    "```bash\n",
    "conda search beautifulsoup4\n",
    "```\n"
   ]
  },
  {
   "cell_type": "markdown",
   "metadata": {
    "slideshow": {
     "slide_type": "fragment"
    }
   },
   "source": [
    "\n",
    "* Install packages\n",
    "```bash\n",
    "conda install beautifulsoup4\n",
    "pip install beautifulsoup4\n",
    "pip install ipython\n",
    "```"
   ]
  },
  {
   "cell_type": "markdown",
   "metadata": {},
   "source": [
    "* Remove packages\n",
    "```bash\n",
    "conda remove beautifulsoup4\n",
    "```"
   ]
  },
  {
   "cell_type": "markdown",
   "metadata": {},
   "source": [
    "### Installing R Kernel (IRkernel)\n",
    "\n",
    "sudo apt-get install libzmq3-dev\n",
    "\n",
    "```R\n",
    "install.packages(\n",
    "  c('rzmq','repr','IRkernel','IRdisplay'),\n",
    "  repos = c('http://irkernel.github.io/', getOption('repos'))\n",
    ")\n",
    "```\n",
    "\n",
    "```R\n",
    "IRkernel::installspec()\n",
    "```\n",
    "\n",
    "* Installation: https://github.com/IRkernel/IRkernel\n",
    "* Homepage: http://irkernel.github.io/"
   ]
  },
  {
   "cell_type": "markdown",
   "metadata": {
    "slideshow": {
     "slide_type": "fragment"
    }
   },
   "source": [
    "### Start IPython Notebook Server with R kernel\n",
    "\n",
    "IPython vs Jupyter\n",
    "\n",
    "```bash\n",
    "ipython notebook\n",
    "```\n",
    "\n",
    "Choose *new* >> *R* from the dropdown list (top right corner)"
   ]
  },
  {
   "cell_type": "markdown",
   "metadata": {},
   "source": [
    "## Hands-on Part 2: Getting Started"
   ]
  },
  {
   "cell_type": "markdown",
   "metadata": {},
   "source": [
    "### IPython Basics\n",
    "\n",
    "* Hello World\n",
    "* Managing Cells\n",
    "    - Cell Types\n",
    "    - Moving Cells around\n",
    "    - Executing and Creating New Cells\n",
    "* Handling Notebooks\n",
    "    - Creating new notebooks (with different kernels)\n",
    "    - Exporting notebooks to various formats\n",
    "* Kernels\n",
    "* Handing Shortcuts\n",
    "\n",
    "IPython Homepage: https://ipython.org/"
   ]
  },
  {
   "cell_type": "markdown",
   "metadata": {},
   "source": [
    "### Markdown Basics\n",
    "\n",
    "* What is markdown?\n",
    "* Headings\n",
    "* Styling Text\n",
    "    - *italicised*\n",
    "    - **bold**\n",
    "    - ***italicised and bold***\n",
    "    - **styles _mixed_ together**\n",
    "* Unordered lists\n",
    "  - Nested Unordered Lists\n",
    "  1. Ordered Lists\n",
    "    1. Nested Lists\n",
    "    2. More Nesting\n",
    "      * More nested lists\n",
    "* Writing Code Blocks\n",
    "```R\n",
    "x = 0\n",
    "x = 2 + 2\n",
    "hist(rnorm(1000))\n",
    "```\n",
    "* Links\n",
    "  * Markdown Basics: https://help.github.com/articles/markdown-basics/\n",
    "  * [GitHub Flavored Markdown](https://help.github.com/articles/github-flavored-markdown/)"
   ]
  }
 ],
 "metadata": {
  "author_info": {
   "author": "Soumendra Dhanee",
   "date": "1st November, 2015",
   "email": "soumendra@gmail.com"
  },
  "kernelspec": {
   "display_name": "R",
   "language": "R",
   "name": "ir"
  },
  "language_info": {
   "codemirror_mode": "r",
   "file_extension": ".r",
   "mimetype": "text/x-r-source",
   "name": "R",
   "pygments_lexer": "r",
   "version": "3.2.2"
  }
 },
 "nbformat": 4,
 "nbformat_minor": 0
}
