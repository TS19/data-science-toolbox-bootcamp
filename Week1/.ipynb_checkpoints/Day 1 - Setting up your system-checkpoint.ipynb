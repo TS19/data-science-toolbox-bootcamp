{
 "cells": [
  {
   "cell_type": "markdown",
   "metadata": {
    "slideshow": {
     "slide_type": "slide"
    }
   },
   "source": [
    "# Day 1 - Setting up your system"
   ]
  },
  {
   "cell_type": "markdown",
   "metadata": {},
   "source": [
    "## Activity 0: Installing Ubuntu (15.10, 64-bit)"
   ]
  },
  {
   "cell_type": "markdown",
   "metadata": {},
   "source": [
    "Installation of Ubuntu is sufficiently complicated to not be covered here. We'll proceed with the assumption that you already have a machine with pre-installed Ubuntu at your disposal, or you know someone who can help you do it. This is one of the few major assumptions we'll make. [Here is the official documentation](https://help.ubuntu.com/community/Installation).\n",
    "\n",
    "The 64-bit 15.10 edition of Ubuntu is the recommended one. Almost all the code that follow will work with almost no tweakings for other versions of Ubuntu as well. Particularly, wherever you see **wily** in bash commands, you should replace it with the appropriate name for the version of Ubuntu you are going to use (for example, *trusty* for 14.04 or *vivd* for 15.04. The full list can be found [here](https://en.wikipedia.org/wiki/List_of_Ubuntu_releases).).\n",
    "\n",
    "You also need to be comfortable using Ubuntu as your operating system. In following sections, we cover a list of ideas and tasks that you should have an understanding of in order to be able to use Ubuntu:"
   ]
  },
  {
   "cell_type": "markdown",
   "metadata": {},
   "source": [
    "### Mastering Ubuntu\n",
    "\n",
    "* You should understand the basics of terminal-based manipulation of the operating environment:\n",
    "  - Is, rm, mv, mkdir, cp\n",
    "  - top\n",
    "  - sudo\n",
    "  - Hidden files\n",
    "  - An understanding of the file structure (including their home directory)\n",
    "* You should be able to understand the login process and the way environmental variables are set:\n",
    "  - .profile\n",
    "  - .bashrc\n",
    "  - .bash_history\n",
    "* You should understand how package management works via apt-get (CLI) and synaptic (GUI):\n",
    "  - Updating package list (apt-get update)\n",
    "  - Upgrading to new packages (apt-get upgrade)\n",
    "  - Adding new repositories to apt (and adding secure keys using apt-key)\n",
    "  - Adding PPAs\n",
    "  - Finding and installing new softwares\n",
    "  - Installing software from .deb files (dpkg -i filename.deb) - walk through the process of installing google chrome (not chromium)\n",
    "* Introduction to basic tools\n",
    "  - gedit\n",
    "  - LibreOffice Calc\n",
    "  - Changing System Settings\n",
    "  - Change desktop behaviour\n",
    "  - Create and set up new users\n",
    "  - System Monitor (and what do the various components mean)\n",
    "\n",
    "All most all the topics mentioned above (and a little more) can be found in the following links (strongly suggested that you read these end-to-end if the material is new for you):\n",
    "\n",
    "* Using the terminal - https://help.ubuntu.com/community/UsingTheTerminal\n",
    "* Commands on the terminal - https://help.ubuntu.com/community/CommandlineHowto\n",
    "* Apt-Get Howto - https://help.ubuntu.com/community/AptGet/Howto\n",
    "* (Optional on Day 1) Deeper into Apt-Get - https://help.ubuntu.com/community/Repositories/CommandLine"
   ]
  },
  {
   "cell_type": "markdown",
   "metadata": {},
   "source": [
    "## Activity 1: Setting up Ubuntu"
   ]
  },
  {
   "cell_type": "markdown",
   "metadata": {},
   "source": [
    "The software in the system is likely to have become update. Let's update the software in our system (note: all the bash commands are meant to be run on the terminal, but you already know that by now).\n",
    "\n",
    "```bash\n",
    "sudo apt-get update\n",
    "sudo apt-get -y upgrade\n",
    "```\n",
    "\n",
    "Now we'll go ahead and install some packages that we'll need from time to time (more so if we are going to be using Ubuntu as our primary operating system). Please check the licensing laws in your country for the softwares included in the *restricted* packages below before instaling.\n",
    "\n",
    "```bash\n",
    "sudo apt-get install -y software-properties-common curl\n",
    "sudo apt-get install default-jre default-jdk\n",
    "sudo apt-get install ubuntu-restricted-extras ubuntu-restricted-addons\n",
    "```\n",
    "\n",
    "Set Timezone\n",
    "\n",
    "```bash\n",
    "sudo ln -sf /usr/share/zoneinfo/UTC /etc/localtime\n",
    "```\n",
    "\n",
    "**Optional on Day 1**\n",
    "\n",
    "More advanced/adventurous students who wish to install the jdk/jre from Oracle (if you don't know what I am talking about, don't venture any further) can execute the following:\n",
    "\n",
    "```bash\n",
    "sudo apt-get install python-software-properties\n",
    "sudo add-apt-repository ppa:webupd8team/java\n",
    "sudo apt-get update\n",
    "\n",
    "sudo apt-get install oracle-java8-installer\n",
    "```\n",
    "\n",
    "If the Oracle version is the only one you have installed, then you have only one Java framework installed i your system. Otherwise, if you have multiple Java frameworks installed in your system, you can choose one of them with the following:\n",
    "\n",
    "```bash\n",
    "sudo update-alternatives --config java\n",
    "sudo update-alternatives --config javac\n",
    "```\n",
    "\n",
    "And here is how you can set up your JAVA_HOME\n",
    "\n",
    "* Note in the install path from (the command above)\n",
    "        sudo update-alternatives --config java\n",
    "* Add JAVA_HOME=\"YOUR_PATH\" to /etc/environment\n",
    "        source /etc/environment\n",
    "        echo $JAVA_HOME"
   ]
  },
  {
   "cell_type": "markdown",
   "metadata": {},
   "source": [
    "## Activity 2: Installing SQL Server"
   ]
  },
  {
   "cell_type": "markdown",
   "metadata": {},
   "source": [
    "### Setting up PostgreSQL\n",
    "\n",
    "```bash\n",
    "sudo apt-get install -y postgresql-9.4 postgresql-contrib-9.4 postgresql-server-dev-all\n",
    "\n",
    "# Configure Postgres Remote Access\n",
    "sudo sed -i \"s/#listen_addresses = 'localhost'/listen_addresses = '*'/g\" /etc/postgresql/9.4/main/postgresql.conf\n",
    "sudo echo \"host    all             all             10.0.2.2/32               md5\" | tee -a /etc/postgresql/9.4/main/pg_hba.conf\n",
    "sudo -u postgres psql -c \"CREATE ROLE iamsrk LOGIN UNENCRYPTED PASSWORD 'iamsrk123' SUPERUSER INHERIT NOCREATEDB NOCREATEROLE NOREPLICATION;\"\n",
    "sudo -u postgres /usr/bin/createdb --echo --owner=iamsrk testdb\n",
    "sudo service postgresql restart\n",
    "```"
   ]
  },
  {
   "cell_type": "markdown",
   "metadata": {},
   "source": [
    "Now you have\n",
    "\n",
    "* A working PostgreSQL server\n",
    "* A user called *iamsrk* with password *iamsrk123*\n",
    "* A database owned by *iamsrk* called *testdb*"
   ]
  },
  {
   "cell_type": "markdown",
   "metadata": {},
   "source": [
    "### Setting up MySQL\n",
    "\n",
    "**This section needs a little more work. Should be skipped for the time being**\n",
    "\n",
    "```bash\n",
    "sudo apt-key adv --keyserver ha.pool.sks-keyservers.net --recv-keys 5072E1F5\n",
    "sudo sh -c 'echo \"deb http://repo.mysql.com/apt/ubuntu/ trusty mysql-5.6\" >> /etc/apt/sources.list.d/mysql.list'\n",
    "\n",
    "sudo debconf-set-selections <<< \"mysql-community-server mysql-community-server/data-dir select ''\"\n",
    "sudo debconf-set-selections <<< \"mysql-community-server mysql-community-server/root-pass password secret\"\n",
    "sudo debconf-set-selections <<< \"mysql-community-server mysql-community-server/re-root-pass password secret\"\n",
    "sudo apt-get install -y mysql-server\n",
    "\n",
    "# Configure MySQL Password Lifetime\n",
    "sudo echo \"default_password_lifetime = 0\" >> /etc/mysql/my.cnf\n",
    "\n",
    "# Configure MySQL Remote Access\n",
    "sudo sed -i '/^bind-address/s/bind-address.*=.*/bind-address = 0.0.0.0/' /etc/mysql/my.cnf\n",
    "\n",
    "mysql --user=\"root\" --password=\"secret\" -e \"GRANT ALL ON *.* TO root@'0.0.0.0' IDENTIFIED BY 'secret' WITH GRANT OPTION;\"\n",
    "sudo service mysql restart\n",
    "\n",
    "mysql --user=\"root\" --password=\"secret\" -e \"CREATE USER 'iamsrk'@'0.0.0.0' IDENTIFIED BY 'iamsrk123';\"\n",
    "mysql --user=\"root\" --password=\"secret\" -e \"GRANT ALL ON *.* TO 'iamsrk'@'0.0.0.0' IDENTIFIED BY 'iamsrk123' WITH GRANT OPTION;\"\n",
    "mysql --user=\"root\" --password=\"secret\" -e \"GRANT ALL ON *.* TO 'iamsrk'@'%' IDENTIFIED BY 'iamsrk123' WITH GRANT OPTION;\"\n",
    "mysql --user=\"root\" --password=\"secret\" -e \"FLUSH PRIVILEGES;\"\n",
    "mysql --user=\"root\" --password=\"secret\" -e \"CREATE DATABASE testdb;\"\n",
    "sudo service mysql restart\n",
    "\n",
    "# Add Timezone Support To MySQL\n",
    "mysql_tzinfo_to_sql /usr/share/zoneinfo | mysql --user=root --password=secret mysql\n",
    "```"
   ]
  },
  {
   "cell_type": "markdown",
   "metadata": {},
   "source": [
    "Now you have\n",
    "\n",
    "* A working MySQL server\n",
    "* A user called *iamsrk* with password *iamsrk123*\n",
    "* *root* password is now *secret*\n",
    "* There is a database called *testdb* that *iamsrk* has access to"
   ]
  },
  {
   "cell_type": "markdown",
   "metadata": {},
   "source": [
    "## Activity 3: Installing NoSQL Server\n",
    "\n",
    "**This section needs a little more work. Should be skipped for the time being**"
   ]
  },
  {
   "cell_type": "markdown",
   "metadata": {},
   "source": [
    "### Setting up MongoDB"
   ]
  },
  {
   "cell_type": "markdown",
   "metadata": {},
   "source": [
    "## Activity 4: Installing R"
   ]
  },
  {
   "cell_type": "markdown",
   "metadata": {},
   "source": [
    "```bash\n",
    "echo R_LIBS_USER=\"~/bin/R/library\" >> ~/.Renviron\n",
    "# Add default repo here ---\n",
    "sudo apt-key adv --keyserver keyserver.ubuntu.com --recv-keys E084DAB9\n",
    "sudo sh -c 'echo \"deb https://cran.rstudio.com/bin/linux/ubuntu wily/\" >> /etc/apt/sources.list.d/cranR.list'\n",
    "\n",
    "sudo apt-get update\n",
    "sudo apt-get install -y r-base r-base-dev r-recommended\n",
    "\n",
    "# In R\n",
    "sudo apt-get install libcurl4-openssl-dev #for Rcurl\n",
    "Rscript -e 'install.packages(c(\"ggplot2\", \"data.table\", \"RPostgreSQL\", \"dplyr\"), repos=\"http://cran.rstudio.com/\")'\n",
    "```"
   ]
  },
  {
   "cell_type": "markdown",
   "metadata": {},
   "source": [
    "## Activity 5: Installing Python"
   ]
  },
  {
   "cell_type": "markdown",
   "metadata": {
    "slideshow": {
     "slide_type": "subslide"
    }
   },
   "source": [
    "* [What is Anaconda?](https://en.wikipedia.org/wiki/Anaconda_%28Python_distribution%29)\n",
    "* [Here](http://docs.python-guide.org/en/latest/scenarios/scientific/) is an introduction to the scientific computing stack in Python. You may wish to [navigate](http://docs.python-guide.org/en/latest/scenarios/scientific/#anaconda) to the section on Anaconda.\n",
    "\n",
    "### Installing Anaconda\n",
    "\n",
    "* Download: https://www.continuum.io/downloads\n",
    "    \n",
    "Distribution | Link\n",
    "------------ | -----\n",
    "Linux 64-bit: | https://3230d63b5fc54e62148e-c95ac804525aac4b6dba79b00b39d1d3.ssl.cf1.rackcdn.com/Anaconda-2.3.0-Linux-x86_64.sh\n",
    "Linux 32-bit: | https://3230d63b5fc54e62148e-c95ac804525aac4b6dba79b00b39d1d3.ssl.cf1.rackcdn.com/Anaconda-2.3.0-Linux-x86.sh\n",
    "\n",
    "* Install\n",
    "```bash\n",
    "bash Anaconda-2.3.0-Linux-x86_64.sh\n",
    "```"
   ]
  },
  {
   "cell_type": "markdown",
   "metadata": {},
   "source": [
    "### Testing Anaconda Install\n",
    "\n",
    "* Verifying Anaconda install\n",
    "```bash\n",
    "conda --version\n",
    "```\n",
    "* Updating Anaconda to current version\n",
    "```bash\n",
    "conda update conda\n",
    "```\n",
    "* List installed packages\n",
    "```bash\n",
    "conda list\n",
    "```\n",
    "* Search for a package\n",
    "```bash\n",
    "conda search beautifulsoup4\n",
    "```\n",
    "* Install packages\n",
    "```bash\n",
    "conda install beautifulsoup4\n",
    "pip install beautifulsoup4\n",
    "pip install ipython\n",
    "```\n",
    "* Remove packages\n",
    "```bash\n",
    "conda remove beautifulsoup4\n",
    "```"
   ]
  },
  {
   "cell_type": "markdown",
   "metadata": {},
   "source": [
    "### IPython Basics\n",
    "\n",
    "* [Get started with IPython](https://www.youtube.com/watch?v=j08Ry-8MOxM) (ignore the sections on installation)\n",
    "* You should understand the following concepts:\n",
    "  - Managing Cells\n",
    "     * Cell Types\n",
    "     * Moving Cells around\n",
    "     * Executing and Creating New Cells\n",
    "  - Handling Notebooks\n",
    "     * Creating new notebooks (with different kernels)\n",
    "     * Exporting notebooks to various formats\n",
    "  - IPython Kernels\n",
    "  - Keyboard Shortcuts\n",
    "\n",
    "IPython Homepage: https://ipython.org/"
   ]
  },
  {
   "cell_type": "markdown",
   "metadata": {},
   "source": [
    "### Installing R Kernel (IRkernel)\n",
    "\n",
    "```bash\n",
    "sudo apt-get install libzmq3-dev\n",
    "```\n",
    "(note: if you are using an older version of Ubuntu, you may want to install *libzmq-dev* instead if you are getting errors below.)\n",
    "\n",
    "The following code should be executed inside an R session (start Rstudio application or type *R* in a terminal).\n",
    "```R\n",
    "install.packages(\n",
    "  c('rzmq','repr','IRkernel','IRdisplay'),\n",
    "  repos = c('http://irkernel.github.io/', getOption('repos'))\n",
    ")\n",
    "IRkernel::installspec()\n",
    "```\n",
    "\n",
    "* Installation: https://github.com/IRkernel/IRkernel\n",
    "* Homepage: http://irkernel.github.io/"
   ]
  },
  {
   "cell_type": "markdown",
   "metadata": {
    "slideshow": {
     "slide_type": "fragment"
    }
   },
   "source": [
    "### Start IPython Notebook Server with R kernel\n",
    "\n",
    "IPython vs Jupyter\n",
    "\n",
    "```bash\n",
    "ipython notebook\n",
    "```\n",
    "\n",
    "Choose *new* >> *R* from the dropdown list (top right corner)"
   ]
  },
  {
   "cell_type": "markdown",
   "metadata": {},
   "source": [
    "## Activity 6: Setting up Git and GitHub\n",
    "\n",
    "* Signup for an account in https://github.com/ (remember your github username and password)\n",
    "* [Setup GitHub](https://help.github.com/articles/set-up-git/) (setup your local *git* installation for GitHub)\n",
    "```bash\n",
    "git config --global user.name \"YourName\"\n",
    "git config --global user.email \"YourGitHubEmailId\"\n",
    "```\n",
    "* Learn the basics of git\n",
    "  - [Set up Git in your machine](http://rogerdudler.github.io/git-guide/)\n",
    "  - [Practise Git](https://try.github.io/levels/1/challenges/1)\n",
    "* [GitHub Workflow using web-ui](https://help.github.com/articles/create-a-repo/)\n",
    "* (Optional for Day 1) [Forking Repos](https://help.github.com/articles/fork-a-repo/) and [GitHub Fork Workflow](https://github.com/sevntu-checkstyle/sevntu.checkstyle/wiki/Development-workflow-with-Git:-Fork,-Branching,-Commits,-and-Pull-Request)\n",
    "* (Optional for Day 1) [Set up SSH authentication](https://help.github.com/articles/generating-ssh-keys/)"
   ]
  },
  {
   "cell_type": "markdown",
   "metadata": {},
   "source": [
    "\n",
    "## Activity 7: Literate Programming"
   ]
  },
  {
   "cell_type": "markdown",
   "metadata": {},
   "source": [
    "### markdown basics\n",
    "\n",
    "* [What is markdown?](https://help.github.com/articles/markdown-basics/)\n",
    "* [GitHub Flavored Markdown](https://help.github.com/articles/github-flavored-markdown/) (used by IPython)\n",
    "\n",
    "Here are some examples of markdown in action (edit this cell to see the raw text)\n",
    "* Styling Text\n",
    "    - *italicised*\n",
    "    - **bold**\n",
    "    - ***italicised and bold***\n",
    "    - **styles _mixed_ together**\n",
    "* Unordered lists\n",
    "  - Nested Unordered Lists\n",
    "  1. Ordered Lists\n",
    "    1. Nested Lists\n",
    "    2. More Nesting\n",
    "      * More nested lists\n",
    "* Writing Code Blocks\n",
    "```R\n",
    "x = 0\n",
    "x = 2 + 2\n",
    "hist(rnorm(1000))\n",
    "```"
   ]
  }
 ],
 "metadata": {
  "author_info": {
   "author": "Soumendra Dhanee",
   "date": "1st November, 2015",
   "email": "soumendra@gmail.com"
  },
  "kernelspec": {
   "display_name": "R",
   "language": "R",
   "name": "ir"
  },
  "language_info": {
   "codemirror_mode": "r",
   "file_extension": ".r",
   "mimetype": "text/x-r-source",
   "name": "R",
   "pygments_lexer": "r",
   "version": "3.2.2"
  }
 },
 "nbformat": 4,
 "nbformat_minor": 0
}
