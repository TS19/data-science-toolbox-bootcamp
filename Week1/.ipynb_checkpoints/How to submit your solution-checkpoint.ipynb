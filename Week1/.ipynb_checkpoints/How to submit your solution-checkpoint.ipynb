{
 "cells": [
  {
   "cell_type": "markdown",
   "metadata": {},
   "source": [
    "## 1. Set up Git and GitHub\n",
    "\n",
    "* Learn the basics of git\n",
    "  - [Set up Git in your machine](http://rogerdudler.github.io/git-guide/)\n",
    "  - [Practise Git](https://try.github.io/levels/1/challenges/1)\n",
    "* [Create a GitHub account](https://github.com/)\n",
    "* [Setup GitHub](https://help.github.com/articles/set-up-git/)\n",
    "* [GitHub Workflow using web-ui](https://help.github.com/articles/create-a-repo/)\n",
    "* [GitHub Fork Workflow](https://github.com/sevntu-checkstyle/sevntu.checkstyle/wiki/Development-workflow-with-Git:-Fork,-Branching,-Commits,-and-Pull-Request)\n",
    "* The Basic Workflow\n",
    "  - git clone https://github.com/soumendra/bdap2015.git\n",
    "  - make changes\n",
    "  - git status\n",
    "  - git add .\n",
    "  - git status\n",
    "  - git commit -m \"commit message\"\n",
    "  - git status\n",
    "  - git push origin master\n",
    "  - git status\n",
    "* For advanced students\n",
    "  - [Set up SSH authentication](https://help.github.com/articles/generating-ssh-keys/)"
   ]
  },
  {
   "cell_type": "markdown",
   "metadata": {},
   "source": [
    "## 2. How to submit your assignment\n",
    "\n",
    "* [The Fork-MakeChanges-SubmitPullRequest Workflow](https://help.github.com/articles/fork-a-repo/)\n",
    "  - Fork Repo\n",
    "  - Clone Repo locally\n",
    "  - Make changes to the this notebook (IRkernel)\n",
    "  - Rename the notebook\n",
    "  - Submit the changes to the Local Repo\n",
    "  - Push the changes to your GitHub Repo\n",
    "  - Submit a Pull Request\n",
    "* How to rename your notebook\n",
    "  - Assignment1-Solutions-(student-id)-(student-nickname).ipynb"
   ]
  }
 ],
 "metadata": {
  "kernelspec": {
   "display_name": "R",
   "language": "R",
   "name": "ir"
  },
  "language_info": {
   "codemirror_mode": "r",
   "file_extension": ".r",
   "mimetype": "text/x-r-source",
   "name": "R",
   "pygments_lexer": "r",
   "version": "3.2.2"
  }
 },
 "nbformat": 4,
 "nbformat_minor": 0
}
